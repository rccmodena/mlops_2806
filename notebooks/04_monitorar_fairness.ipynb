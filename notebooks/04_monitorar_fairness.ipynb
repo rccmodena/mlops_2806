{
 "cells": [
  {
   "cell_type": "markdown",
   "id": "7146ac3a",
   "metadata": {},
   "source": [
    "# Monitoramento e Fairness"
   ]
  },
  {
   "cell_type": "code",
   "execution_count": 1,
   "id": "b62f5bb1",
   "metadata": {},
   "outputs": [],
   "source": [
    "import pandas as pd\n",
    "import joblib\n",
    "from sklearn.metrics import classification_report, confusion_matrix\n",
    "import matplotlib.pyplot as plt\n",
    "import seaborn as sns\n",
    "import os"
   ]
  },
  {
   "cell_type": "markdown",
   "id": "9ee16892",
   "metadata": {},
   "source": [
    "## Carregar modelo e vetor já treinados"
   ]
  },
  {
   "cell_type": "code",
   "execution_count": 2,
   "id": "98199170",
   "metadata": {},
   "outputs": [
    {
     "data": {
      "text/html": [
       "<div>\n",
       "<style scoped>\n",
       "    .dataframe tbody tr th:only-of-type {\n",
       "        vertical-align: middle;\n",
       "    }\n",
       "\n",
       "    .dataframe tbody tr th {\n",
       "        vertical-align: top;\n",
       "    }\n",
       "\n",
       "    .dataframe thead th {\n",
       "        text-align: right;\n",
       "    }\n",
       "</style>\n",
       "<table border=\"1\" class=\"dataframe\">\n",
       "  <thead>\n",
       "    <tr style=\"text-align: right;\">\n",
       "      <th></th>\n",
       "      <th>text</th>\n",
       "      <th>label</th>\n",
       "      <th>text_length</th>\n",
       "    </tr>\n",
       "  </thead>\n",
       "  <tbody>\n",
       "    <tr>\n",
       "      <th>0</th>\n",
       "      <td>Adorei o produto de investimento no mercado de...</td>\n",
       "      <td>positivo</td>\n",
       "      <td>56</td>\n",
       "    </tr>\n",
       "    <tr>\n",
       "      <th>1</th>\n",
       "      <td>O serviço de instalacão da internet foi péssim...</td>\n",
       "      <td>negativo</td>\n",
       "      <td>62</td>\n",
       "    </tr>\n",
       "    <tr>\n",
       "      <th>2</th>\n",
       "      <td>Entrega rápida com atendimento excelente</td>\n",
       "      <td>positivo</td>\n",
       "      <td>40</td>\n",
       "    </tr>\n",
       "    <tr>\n",
       "      <th>3</th>\n",
       "      <td>Produto veio com defeito estou decepcionado</td>\n",
       "      <td>negativo</td>\n",
       "      <td>43</td>\n",
       "    </tr>\n",
       "    <tr>\n",
       "      <th>4</th>\n",
       "      <td>Gostei muito da qualidade</td>\n",
       "      <td>positivo</td>\n",
       "      <td>25</td>\n",
       "    </tr>\n",
       "  </tbody>\n",
       "</table>\n",
       "</div>"
      ],
      "text/plain": [
       "                                                text     label  text_length\n",
       "0  Adorei o produto de investimento no mercado de...  positivo           56\n",
       "1  O serviço de instalacão da internet foi péssim...  negativo           62\n",
       "2           Entrega rápida com atendimento excelente  positivo           40\n",
       "3        Produto veio com defeito estou decepcionado  negativo           43\n",
       "4                          Gostei muito da qualidade  positivo           25"
      ]
     },
     "metadata": {},
     "output_type": "display_data"
    }
   ],
   "source": [
    "modelo_path = \"../model.joblib\"\n",
    "vetor_path = \"../vectorizer.joblib\"\n",
    "dados_path = \"../data/tweets_limpo.csv\"\n",
    "\n",
    "if not (os.path.exists(modelo_path) and os.path.exists(vetor_path)):\n",
    "    raise FileExistsError(\"Treine e salve o modelo antes de executar!\")\n",
    "\n",
    "model = joblib.load(modelo_path)\n",
    "vectorizer = joblib.load(vetor_path)\n",
    "df = pd.read_csv(dados_path)\n",
    "display(df.head())"
   ]
  },
  {
   "cell_type": "markdown",
   "id": "2b343959",
   "metadata": {},
   "source": [
    "## Monitoramento"
   ]
  },
  {
   "cell_type": "code",
   "execution_count": 8,
   "id": "cf586cb1",
   "metadata": {},
   "outputs": [
    {
     "data": {
      "text/html": [
       "<div>\n",
       "<style scoped>\n",
       "    .dataframe tbody tr th:only-of-type {\n",
       "        vertical-align: middle;\n",
       "    }\n",
       "\n",
       "    .dataframe tbody tr th {\n",
       "        vertical-align: top;\n",
       "    }\n",
       "\n",
       "    .dataframe thead th {\n",
       "        text-align: right;\n",
       "    }\n",
       "</style>\n",
       "<table border=\"1\" class=\"dataframe\">\n",
       "  <thead>\n",
       "    <tr style=\"text-align: right;\">\n",
       "      <th></th>\n",
       "      <th>text</th>\n",
       "    </tr>\n",
       "  </thead>\n",
       "  <tbody>\n",
       "    <tr>\n",
       "      <th>0</th>\n",
       "      <td>Muito ruim, não gostei do atendimento.</td>\n",
       "    </tr>\n",
       "    <tr>\n",
       "      <th>1</th>\n",
       "      <td>A entrega foi sensacional!</td>\n",
       "    </tr>\n",
       "    <tr>\n",
       "      <th>2</th>\n",
       "      <td>Não funcionou, me decepcionei</td>\n",
       "    </tr>\n",
       "    <tr>\n",
       "      <th>3</th>\n",
       "      <td>Recomendo para todos, nota 10!</td>\n",
       "    </tr>\n",
       "    <tr>\n",
       "      <th>4</th>\n",
       "      <td>Recomendo para todos, top!</td>\n",
       "    </tr>\n",
       "  </tbody>\n",
       "</table>\n",
       "</div>"
      ],
      "text/plain": [
       "                                     text\n",
       "0  Muito ruim, não gostei do atendimento.\n",
       "1              A entrega foi sensacional!\n",
       "2           Não funcionou, me decepcionei\n",
       "3          Recomendo para todos, nota 10!\n",
       "4              Recomendo para todos, top!"
      ]
     },
     "metadata": {},
     "output_type": "display_data"
    }
   ],
   "source": [
    "novos_textos = [\n",
    "    \"Muito ruim, não gostei do atendimento.\",\n",
    "    \"A entrega foi sensacional!\",\n",
    "    \"Não funcionou, me decepcionei\",\n",
    "    \"Recomendo para todos, nota 10!\",\n",
    "    \"Recomendo para todos, top!\"\n",
    "]\n",
    "\n",
    "novos_df = pd.DataFrame({'text': novos_textos})\n",
    "display(novos_df)"
   ]
  },
  {
   "cell_type": "code",
   "execution_count": 9,
   "id": "94c5f5c7",
   "metadata": {},
   "outputs": [
    {
     "data": {
      "text/html": [
       "<div>\n",
       "<style scoped>\n",
       "    .dataframe tbody tr th:only-of-type {\n",
       "        vertical-align: middle;\n",
       "    }\n",
       "\n",
       "    .dataframe tbody tr th {\n",
       "        vertical-align: top;\n",
       "    }\n",
       "\n",
       "    .dataframe thead th {\n",
       "        text-align: right;\n",
       "    }\n",
       "</style>\n",
       "<table border=\"1\" class=\"dataframe\">\n",
       "  <thead>\n",
       "    <tr style=\"text-align: right;\">\n",
       "      <th></th>\n",
       "      <th>text</th>\n",
       "      <th>sentimento_predito</th>\n",
       "    </tr>\n",
       "  </thead>\n",
       "  <tbody>\n",
       "    <tr>\n",
       "      <th>0</th>\n",
       "      <td>Muito ruim, não gostei do atendimento.</td>\n",
       "      <td>negativo</td>\n",
       "    </tr>\n",
       "    <tr>\n",
       "      <th>1</th>\n",
       "      <td>A entrega foi sensacional!</td>\n",
       "      <td>positivo</td>\n",
       "    </tr>\n",
       "    <tr>\n",
       "      <th>2</th>\n",
       "      <td>Não funcionou, me decepcionei</td>\n",
       "      <td>negativo</td>\n",
       "    </tr>\n",
       "    <tr>\n",
       "      <th>3</th>\n",
       "      <td>Recomendo para todos, nota 10!</td>\n",
       "      <td>positivo</td>\n",
       "    </tr>\n",
       "    <tr>\n",
       "      <th>4</th>\n",
       "      <td>Recomendo para todos, top!</td>\n",
       "      <td>positivo</td>\n",
       "    </tr>\n",
       "  </tbody>\n",
       "</table>\n",
       "</div>"
      ],
      "text/plain": [
       "                                     text sentimento_predito\n",
       "0  Muito ruim, não gostei do atendimento.           negativo\n",
       "1              A entrega foi sensacional!           positivo\n",
       "2           Não funcionou, me decepcionei           negativo\n",
       "3          Recomendo para todos, nota 10!           positivo\n",
       "4              Recomendo para todos, top!           positivo"
      ]
     },
     "metadata": {},
     "output_type": "display_data"
    }
   ],
   "source": [
    "novos_vetores = vectorizer.transform(novos_df[\"text\"])\n",
    "novos_preds = model.predict(novos_vetores)\n",
    "novos_df['sentimento_predito'] = novos_preds\n",
    "display(novos_df)"
   ]
  },
  {
   "cell_type": "code",
   "execution_count": 10,
   "id": "0e3f58d4",
   "metadata": {},
   "outputs": [
    {
     "name": "stdout",
     "output_type": "stream",
     "text": [
      "Distribuição dos sentimentos preditos no novos dados:\n",
      "sentimento_predito\n",
      "positivo    0.6\n",
      "negativo    0.4\n",
      "Name: proportion, dtype: float64\n"
     ]
    }
   ],
   "source": [
    "class_dict = novos_df[\"sentimento_predito\"].value_counts(normalize=True)\n",
    "print(\"Distribuição dos sentimentos preditos no novos dados:\")\n",
    "print(class_dict)"
   ]
  },
  {
   "cell_type": "markdown",
   "id": "83402f3f",
   "metadata": {},
   "source": [
    "## Fairness - Vieses"
   ]
  },
  {
   "cell_type": "code",
   "execution_count": 11,
   "id": "516e8ed6",
   "metadata": {},
   "outputs": [],
   "source": [
    "df[\"text_len\"]= df[\"text\"].apply(len)\n",
    "df[\"len_category\"]= pd.cut(df[\"text_len\"], bins=[0,50,150,1000], labels=[\"curto\", \"medio\", \"longo\"])"
   ]
  },
  {
   "cell_type": "code",
   "execution_count": 12,
   "id": "3db7d0a4",
   "metadata": {},
   "outputs": [
    {
     "data": {
      "text/html": [
       "<div>\n",
       "<style scoped>\n",
       "    .dataframe tbody tr th:only-of-type {\n",
       "        vertical-align: middle;\n",
       "    }\n",
       "\n",
       "    .dataframe tbody tr th {\n",
       "        vertical-align: top;\n",
       "    }\n",
       "\n",
       "    .dataframe thead th {\n",
       "        text-align: right;\n",
       "    }\n",
       "</style>\n",
       "<table border=\"1\" class=\"dataframe\">\n",
       "  <thead>\n",
       "    <tr style=\"text-align: right;\">\n",
       "      <th></th>\n",
       "      <th>text</th>\n",
       "      <th>label</th>\n",
       "      <th>text_length</th>\n",
       "      <th>text_len</th>\n",
       "      <th>len_category</th>\n",
       "    </tr>\n",
       "  </thead>\n",
       "  <tbody>\n",
       "    <tr>\n",
       "      <th>0</th>\n",
       "      <td>Adorei o produto de investimento no mercado de...</td>\n",
       "      <td>positivo</td>\n",
       "      <td>56</td>\n",
       "      <td>56</td>\n",
       "      <td>medio</td>\n",
       "    </tr>\n",
       "    <tr>\n",
       "      <th>1</th>\n",
       "      <td>O serviço de instalacão da internet foi péssim...</td>\n",
       "      <td>negativo</td>\n",
       "      <td>62</td>\n",
       "      <td>62</td>\n",
       "      <td>medio</td>\n",
       "    </tr>\n",
       "    <tr>\n",
       "      <th>2</th>\n",
       "      <td>Entrega rápida com atendimento excelente</td>\n",
       "      <td>positivo</td>\n",
       "      <td>40</td>\n",
       "      <td>40</td>\n",
       "      <td>curto</td>\n",
       "    </tr>\n",
       "    <tr>\n",
       "      <th>3</th>\n",
       "      <td>Produto veio com defeito estou decepcionado</td>\n",
       "      <td>negativo</td>\n",
       "      <td>43</td>\n",
       "      <td>43</td>\n",
       "      <td>curto</td>\n",
       "    </tr>\n",
       "    <tr>\n",
       "      <th>4</th>\n",
       "      <td>Gostei muito da qualidade</td>\n",
       "      <td>positivo</td>\n",
       "      <td>25</td>\n",
       "      <td>25</td>\n",
       "      <td>curto</td>\n",
       "    </tr>\n",
       "    <tr>\n",
       "      <th>5</th>\n",
       "      <td>Não funcionou como esperado.</td>\n",
       "      <td>negativo</td>\n",
       "      <td>28</td>\n",
       "      <td>28</td>\n",
       "      <td>curto</td>\n",
       "    </tr>\n",
       "    <tr>\n",
       "      <th>6</th>\n",
       "      <td>Fui muito bem atendido.</td>\n",
       "      <td>positivo</td>\n",
       "      <td>23</td>\n",
       "      <td>23</td>\n",
       "      <td>curto</td>\n",
       "    </tr>\n",
       "    <tr>\n",
       "      <th>7</th>\n",
       "      <td>Não voltarei a comprar</td>\n",
       "      <td>negativo</td>\n",
       "      <td>22</td>\n",
       "      <td>22</td>\n",
       "      <td>curto</td>\n",
       "    </tr>\n",
       "    <tr>\n",
       "      <th>8</th>\n",
       "      <td>Adorei o produto de investimento no mercado de...</td>\n",
       "      <td>positivo</td>\n",
       "      <td>56</td>\n",
       "      <td>56</td>\n",
       "      <td>medio</td>\n",
       "    </tr>\n",
       "    <tr>\n",
       "      <th>9</th>\n",
       "      <td>O serviço de instalacão da internet foi pessim...</td>\n",
       "      <td>negativo</td>\n",
       "      <td>62</td>\n",
       "      <td>62</td>\n",
       "      <td>medio</td>\n",
       "    </tr>\n",
       "    <tr>\n",
       "      <th>10</th>\n",
       "      <td>Entrega rapida com atendimento excelente</td>\n",
       "      <td>positivo</td>\n",
       "      <td>40</td>\n",
       "      <td>40</td>\n",
       "      <td>curto</td>\n",
       "    </tr>\n",
       "    <tr>\n",
       "      <th>11</th>\n",
       "      <td>Produto veio com defeito estou decepcionado</td>\n",
       "      <td>negativo</td>\n",
       "      <td>43</td>\n",
       "      <td>43</td>\n",
       "      <td>curto</td>\n",
       "    </tr>\n",
       "    <tr>\n",
       "      <th>12</th>\n",
       "      <td>Gostei muito da qualidade</td>\n",
       "      <td>positivo</td>\n",
       "      <td>25</td>\n",
       "      <td>25</td>\n",
       "      <td>curto</td>\n",
       "    </tr>\n",
       "    <tr>\n",
       "      <th>13</th>\n",
       "      <td>Nao funcionou como esperado.</td>\n",
       "      <td>negativo</td>\n",
       "      <td>28</td>\n",
       "      <td>28</td>\n",
       "      <td>curto</td>\n",
       "    </tr>\n",
       "    <tr>\n",
       "      <th>14</th>\n",
       "      <td>Fui muito bem atendido.</td>\n",
       "      <td>positivo</td>\n",
       "      <td>23</td>\n",
       "      <td>23</td>\n",
       "      <td>curto</td>\n",
       "    </tr>\n",
       "    <tr>\n",
       "      <th>15</th>\n",
       "      <td>Nossa este produto é nota 10!</td>\n",
       "      <td>positivo</td>\n",
       "      <td>29</td>\n",
       "      <td>29</td>\n",
       "      <td>curto</td>\n",
       "    </tr>\n",
       "    <tr>\n",
       "      <th>16</th>\n",
       "      <td>Top esta carteira da marca</td>\n",
       "      <td>positivo</td>\n",
       "      <td>26</td>\n",
       "      <td>26</td>\n",
       "      <td>curto</td>\n",
       "    </tr>\n",
       "    <tr>\n",
       "      <th>17</th>\n",
       "      <td>Muito ruim, não gostei do atendimento</td>\n",
       "      <td>negativo</td>\n",
       "      <td>37</td>\n",
       "      <td>37</td>\n",
       "      <td>curto</td>\n",
       "    </tr>\n",
       "  </tbody>\n",
       "</table>\n",
       "</div>"
      ],
      "text/plain": [
       "                                                 text     label  text_length  \\\n",
       "0   Adorei o produto de investimento no mercado de...  positivo           56   \n",
       "1   O serviço de instalacão da internet foi péssim...  negativo           62   \n",
       "2            Entrega rápida com atendimento excelente  positivo           40   \n",
       "3         Produto veio com defeito estou decepcionado  negativo           43   \n",
       "4                           Gostei muito da qualidade  positivo           25   \n",
       "5                        Não funcionou como esperado.  negativo           28   \n",
       "6                             Fui muito bem atendido.  positivo           23   \n",
       "7                              Não voltarei a comprar  negativo           22   \n",
       "8   Adorei o produto de investimento no mercado de...  positivo           56   \n",
       "9   O serviço de instalacão da internet foi pessim...  negativo           62   \n",
       "10           Entrega rapida com atendimento excelente  positivo           40   \n",
       "11        Produto veio com defeito estou decepcionado  negativo           43   \n",
       "12                          Gostei muito da qualidade  positivo           25   \n",
       "13                       Nao funcionou como esperado.  negativo           28   \n",
       "14                            Fui muito bem atendido.  positivo           23   \n",
       "15                      Nossa este produto é nota 10!  positivo           29   \n",
       "16                         Top esta carteira da marca  positivo           26   \n",
       "17              Muito ruim, não gostei do atendimento  negativo           37   \n",
       "\n",
       "    text_len len_category  \n",
       "0         56        medio  \n",
       "1         62        medio  \n",
       "2         40        curto  \n",
       "3         43        curto  \n",
       "4         25        curto  \n",
       "5         28        curto  \n",
       "6         23        curto  \n",
       "7         22        curto  \n",
       "8         56        medio  \n",
       "9         62        medio  \n",
       "10        40        curto  \n",
       "11        43        curto  \n",
       "12        25        curto  \n",
       "13        28        curto  \n",
       "14        23        curto  \n",
       "15        29        curto  \n",
       "16        26        curto  \n",
       "17        37        curto  "
      ]
     },
     "execution_count": 12,
     "metadata": {},
     "output_type": "execute_result"
    }
   ],
   "source": [
    "df"
   ]
  },
  {
   "cell_type": "markdown",
   "id": "6d20720c",
   "metadata": {},
   "source": [
    "## Predições conjunto de validação"
   ]
  },
  {
   "cell_type": "code",
   "execution_count": 13,
   "id": "75f156f7",
   "metadata": {},
   "outputs": [
    {
     "data": {
      "text/plain": [
       "0     negativo\n",
       "1     negativo\n",
       "2     positivo\n",
       "3     negativo\n",
       "4     positivo\n",
       "5     negativo\n",
       "6     positivo\n",
       "7     negativo\n",
       "8     negativo\n",
       "9     negativo\n",
       "10    positivo\n",
       "11    negativo\n",
       "12    positivo\n",
       "13    negativo\n",
       "14    positivo\n",
       "15    positivo\n",
       "16    positivo\n",
       "17    negativo\n",
       "Name: pred, dtype: object"
      ]
     },
     "metadata": {},
     "output_type": "display_data"
    }
   ],
   "source": [
    "vetores = vectorizer.transform(df[\"text\"])\n",
    "df[\"pred\"] = model.predict(vetores)\n",
    "display(df[\"pred\"])"
   ]
  },
  {
   "cell_type": "markdown",
   "id": "dfbd3375",
   "metadata": {},
   "source": [
    "## Avaliação de acurácia"
   ]
  },
  {
   "cell_type": "code",
   "execution_count": 15,
   "id": "44f35fac",
   "metadata": {},
   "outputs": [
    {
     "name": "stdout",
     "output_type": "stream",
     "text": [
      "Acurária para os textos medio: 0.50 (N=4)\n",
      "Acurária para os textos curto: 1.00 (N=14)\n"
     ]
    }
   ],
   "source": [
    "for cat in df[\"len_category\"].unique():\n",
    "    subset = df[df[\"len_category\"] == cat]\n",
    "    if not subset.empty:\n",
    "        acuracia = (subset[\"label\"] == subset[\"pred\"]).mean()\n",
    "        print(f\"Acurária para os textos {cat}: {acuracia:.2f} (N={len(subset)})\")"
   ]
  },
  {
   "cell_type": "markdown",
   "id": "8a06ce5d",
   "metadata": {},
   "source": [
    "## Desafio fairness"
   ]
  },
  {
   "cell_type": "code",
   "execution_count": 18,
   "id": "ff5829ca",
   "metadata": {},
   "outputs": [
    {
     "name": "stdout",
     "output_type": "stream",
     "text": [
      "Matriz de confusão para textos medio: \n",
      "[[2 0]\n",
      " [2 0]]\n"
     ]
    },
    {
     "data": {
      "image/png": "[encoded data removed]",
      "text/plain": [
       "<Figure size 640x480 with 2 Axes>"
      ]
     },
     "metadata": {},
     "output_type": "display_data"
    },
    {
     "name": "stdout",
     "output_type": "stream",
     "text": [
      "Matriz de confusão para textos curto: \n",
      "[[6 0]\n",
      " [0 8]]\n"
     ]
    },
    {
     "data": {
      "image/png": "[encoded data removed]",
      "text/plain": [
       "<Figure size 640x480 with 2 Axes>"
      ]
     },
     "metadata": {},
     "output_type": "display_data"
    }
   ],
   "source": [
    "for cat in df[\"len_category\"].unique():\n",
    "    subset = df[df[\"len_category\"] == cat]\n",
    "    if not subset.empty:\n",
    "        print(f\"Matriz de confusão para textos {cat}: \")\n",
    "        print(confusion_matrix(subset[\"label\"], subset[\"pred\"]))\n",
    "        sns.heatmap(\n",
    "            confusion_matrix(\n",
    "                subset[\"label\"],\n",
    "                subset[\"pred\"]\n",
    "            ),\n",
    "            annot=True, fmt=\"d\",cmap=\"Blues\",\n",
    "            xticklabels=[\"negativo\", \"positivo\"],\n",
    "            yticklabels=[\"negativo\", \"positivo\"],\n",
    "        )\n",
    "        plt.title(f\"Textos {cat}\")\n",
    "        plt.xlabel(\"Predito\")\n",
    "        plt.ylabel(\"Real\")\n",
    "        plt.show()"
   ]
  },
  {
   "cell_type": "code",
   "execution_count": null,
   "id": "176e3dc6",
   "metadata": {},
   "outputs": [],
   "source": []
  }
 ],
 "metadata": {
  "kernelspec": {
   "display_name": ".venv",
   "language": "python",
   "name": "python3"
  },
  "language_info": {
   "codemirror_mode": {
    "name": "ipython",
    "version": 3
   },
   "file_extension": ".py",
   "mimetype": "text/x-python",
   "name": "python",
   "nbconvert_exporter": "python",
   "pygments_lexer": "ipython3",
   "version": "3.11.10"
  }
 },
 "nbformat": 4,
 "nbformat_minor": 5
}
